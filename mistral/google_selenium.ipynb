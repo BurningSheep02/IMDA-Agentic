{
 "cells": [
  {
   "cell_type": "code",
   "execution_count": 1,
   "metadata": {},
   "outputs": [],
   "source": [
    "from selenium import webdriver\n",
    "from selenium.webdriver.common.by import By\n",
    "\n",
    "url = \"https://www.google.com\"\n",
    "driver = webdriver.Firefox()\n",
    "driver.maximize_window()\n",
    "driver.get(url)"
   ]
  },
  {
   "cell_type": "code",
   "execution_count": 2,
   "metadata": {},
   "outputs": [],
   "source": [
    "from selenium.webdriver.common.keys import Keys\n",
    "search_box = driver.find_element(By.ID, \"APjFqb\")\n",
    "search_box.click()\n",
    "search_box.send_keys(\"donald trump\")\n",
    "search_box.send_keys(Keys.ENTER)"
   ]
  },
  {
   "cell_type": "code",
   "execution_count": 3,
   "metadata": {},
   "outputs": [
    {
     "data": {
      "text/plain": [
       "'https://www.google.com/'"
      ]
     },
     "execution_count": 3,
     "metadata": {},
     "output_type": "execute_result"
    }
   ],
   "source": [
    "driver.current_url"
   ]
  },
  {
   "cell_type": "code",
   "execution_count": 4,
   "metadata": {},
   "outputs": [],
   "source": [
    "from selenium.webdriver.support.ui import WebDriverWait\n",
    "from selenium.webdriver.support import expected_conditions as EC\n",
    "try:\n",
    "    elem = WebDriverWait(driver, 10).until(\n",
    "        EC.presence_of_element_located((By.ID, \"gsr\")) #This is a dummy element\n",
    "    )\n",
    "except:\n",
    "    print(\"No search results\")"
   ]
  },
  {
   "cell_type": "code",
   "execution_count": 5,
   "metadata": {},
   "outputs": [
    {
     "data": {
      "text/plain": [
       "['https://support.google.com/websearch/answer/181196?hl=en-SG',\n",
       " 'https://www.google.com/webhp?hl=en&sa=X&ved=0ahUKEwjChq7ZzbmHAxU4WGwGHfgtAfkQPAgI',\n",
       " 'https://www.google.com.sg/intl/en/about/products?tab=wh',\n",
       " 'https://accounts.google.com/ServiceLogin?hl=en&passive=true&continue=https://www.google.com/search%3Fq%3Ddonald%2Btrump%26sca_esv%3Db8228427afa87245%26sca_upv%3D1%26source%3Dhp%26ei%3DusSdZqjlGbyXseMPi_6X8AM%26iflsig%3DAL9hbdgAAAAAZp3Syqm0T5UPrGPYI0BIGdns1oGn8bO9%26ved%3D0ahUKEwioqtbYzbmHAxW8S2wGHQv_BT4Q4dUDCA8%26uact%3D5%26oq%3Ddonald%2Btrump%26gs_lp%3DEgdnd3Mtd2l6Igxkb25hbGQgdHJ1bXAyEBAAGAMY5QIY6gIYjAMYjwEyEBAAGAMY5QIY6gIYjAMYjwEyEBAuGAMY5QIY6gIYjAMYjwEyEBAAGAMY5QIY6gIYjAMYjwEyEBAAGAMY5QIY6gIYjAMYjwEyEBAuGAMY5QIY6gIYjAMYjwEyEBAAGAMY5QIY6gIYjAMYjwEyEBAuGAMY5QIY6gIYjAMYjwEyEBAuGAMY5QIY6gIYjAMYjwEyEBAAGAMY5QIY6gIYjAMYjwFI7QFQ2gFY6QFwAXgAkAEAmAEAoAEAqgEAuAEDyAEA-AEBmAIBoAICqAIKmAMCkgcBMaAHAA%26sclient%3Dgws-wiz&ec=futura_gmv_dt_so_72586115_e',\n",
       " 'https://www.google.com/search?sca_esv=b8228427afa87245&sca_upv=1&q=donald+trump&tbm=nws&source=lnms&fbs=AEQNm0COtQ6qE5snXClm_cWqGTLX_jMP5V4l2v9LemFtanifXVoSDc4z6nO25TAUUgCi_PpI-llT3t-ZKgNdZQP_LFmYOjeYySmcqbTn8Lw5rZ4L48OZjbSOf4lfhSGNf465PabcK4X1XNxD1Rh4P3kIRnaFJt1QLk8eA_YWmO3sPSVOmqXMgtgiyN4OxTTm7Djrzg8FxuswLfJP-aXDkbJuej7pt3hlNQ&sa=X&ved=2ahUKEwjChq7ZzbmHAxU4WGwGHfgtAfkQ0pQJegQIEhAB',\n",
       " 'https://www.google.com/search?sca_esv=b8228427afa87245&sca_upv=1&q=donald+trump&udm=2&fbs=AEQNm0COtQ6qE5snXClm_cWqGTLX_jMP5V4l2v9LemFtanifXVoSDc4z6nO25TAUUgCi_PpI-llT3t-ZKgNdZQP_LFmYOjeYySmcqbTn8Lw5rZ4L48OZjbSOf4lfhSGNf465PabcK4X1XNxD1Rh4P3kIRnaFJt1QLk8eA_YWmO3sPSVOmqXMgtgiyN4OxTTm7Djrzg8FxuswLfJP-aXDkbJuej7pt3hlNQ&sa=X&ved=2ahUKEwjChq7ZzbmHAxU4WGwGHfgtAfkQtKgLegQIEBAB',\n",
       " 'https://www.google.com/search?sca_esv=b8228427afa87245&sca_upv=1&q=donald+trump&tbm=vid&source=lnms&fbs=AEQNm0COtQ6qE5snXClm_cWqGTLX_jMP5V4l2v9LemFtanifXVoSDc4z6nO25TAUUgCi_PpI-llT3t-ZKgNdZQP_LFmYOjeYySmcqbTn8Lw5rZ4L48OZjbSOf4lfhSGNf465PabcK4X1XNxD1Rh4P3kIRnaFJt1QLk8eA_YWmO3sPSVOmqXMgtgiyN4OxTTm7Djrzg8FxuswLfJP-aXDkbJuej7pt3hlNQ&sa=X&ved=2ahUKEwjChq7ZzbmHAxU4WGwGHfgtAfkQ0pQJegQICxAB',\n",
       " 'https://www.google.com/search?sca_esv=b8228427afa87245&sca_upv=1&q=donald+trump&tbm=shop&source=lnms&fbs=AEQNm0COtQ6qE5snXClm_cWqGTLX_jMP5V4l2v9LemFtanifXVoSDc4z6nO25TAUUgCi_PpI-llT3t-ZKgNdZQP_LFmYOjeYySmcqbTn8Lw5rZ4L48OZjbSOf4lfhSGNf465PabcK4X1XNxD1Rh4P3kIRnaFJt1QLk8eA_YWmO3sPSVOmqXMgtgiyN4OxTTm7Djrzg8FxuswLfJP-aXDkbJuej7pt3hlNQ&ved=1t:200715&ictx=111',\n",
       " 'https://maps.google.com/maps?sca_esv=b8228427afa87245&sca_upv=1&output=search&q=donald+trump&source=lnms&fbs=AEQNm0COtQ6qE5snXClm_cWqGTLX_jMP5V4l2v9LemFtanifXVoSDc4z6nO25TAUUgCi_PpI-llT3t-ZKgNdZQP_LFmYOjeYySmcqbTn8Lw5rZ4L48OZjbSOf4lfhSGNf465PabcK4X1XNxD1Rh4P3kIRnaFJt1QLk8eA_YWmO3sPSVOmqXMgtgiyN4OxTTm7Djrzg8FxuswLfJP-aXDkbJuej7pt3hlNQ&entry=mc&ved=1t:200715&ictx=111',\n",
       " 'https://www.google.com/search?sca_esv=b8228427afa87245&sca_upv=1&q=donald+trump&udm=14&fbs=AEQNm0COtQ6qE5snXClm_cWqGTLX_jMP5V4l2v9LemFtanifXVoSDc4z6nO25TAUUgCi_PpI-llT3t-ZKgNdZQP_LFmYOjeYySmcqbTn8Lw5rZ4L48OZjbSOf4lfhSGNf465PabcK4X1XNxD1Rh4P3kIRnaFJt1QLk8eA_YWmO3sPSVOmqXMgtgiyN4OxTTm7Djrzg8FxuswLfJP-aXDkbJuej7pt3hlNQ&sa=X&ved=2ahUKEwjChq7ZzbmHAxU4WGwGHfgtAfkQs6gLegQIDhAB',\n",
       " 'https://www.google.com/search?sca_esv=b8228427afa87245&sca_upv=1&q=donald+trump&udm=2&source=univ&sa=X&ved=2ahUKEwjChq7ZzbmHAxU4WGwGHfgtAfkQnN8JegQIExAD',\n",
       " 'https://twitter.com/realdonaldtrump?lang=en',\n",
       " 'https://www.google.com/search?sca_esv=b8228427afa87245&sca_upv=1&q=donald+trump+age&stick=H4sIAAAAAAAAAOPgE-LUz9U3SC4ssTTQEs1OttIvSM0vyEkFUkXF-XlWiempi1gFUvLzEnNSFEqKSnMLFIBCAMqYnZc3AAAA&sa=X&ved=2ahUKEwjChq7ZzbmHAxU4WGwGHfgtAfkQ18AJegQIHBAB',\n",
       " 'https://www.google.com/search?sca_esv=b8228427afa87245&sca_upv=1&q=Mike+Pence&si=ACC90nzx_D3_zUKRnpAjmO0UBLNxnt7EyN4YYdru6U3bxLI-L6V7XZth_4U6GjwsFh-iEmUViT4wvrtSlyKq-KJW-uul1KgyhQg0RW6DTadHnkD4UFFx7Zy1DNdP0jtC1vRMIUruqxSD29_uxfPNcpOPrYXpG_642xOUKkHhWx4xR-UhS1SyGkjWH1yZyAixuuz6717U2xwt&sa=X&ved=2ahUKEwjChq7ZzbmHAxU4WGwGHfgtAfkQ18AJegQIGxAB',\n",
       " 'https://www.facebook.com/DonaldTrump/',\n",
       " 'https://www.google.com/search?q=donald+trump&sca_esv=b8228427afa87245&sca_upv=1&tbm=nws&story=Gi8SLUpvZSBCaWRlbiBkcm9wcyBvdXQgb2YgMjAyNCBwcmVzaWRlbnRpYWwgcmFjZTIxCify66nLlJW8yeABu8681Zy_qv6bAcjZ0sjOlL6AhwGzz5X2gLb0sCkQvqCs-gsYBXICEAE&fcs=ACgqzedUh_bgg_tUnTm7NuWZyGZrtdFEnA&sa=X&ved=2ahUKEwjChq7ZzbmHAxU4WGwGHfgtAfkQjcEJegQIPhAD',\n",
       " 'https://www.bbc.com/news/articles/cpwd8yzw45qo',\n",
       " 'https://www.cnbc.com/2024/07/21/biden-to-drop-out-of-2024-presidential-race.html',\n",
       " 'https://www.reuters.com/world/us/trump-says-kamala-harris-will-be-easier-defeat-than-biden-2024-07-21/',\n",
       " 'https://www.theguardian.com/us-news/article/2024/jul/21/trump-truth-social-biden-drops-out',\n",
       " 'https://www.nbcnews.com/politics/2024-election/president-joe-biden-drops-2024-presidential-race-rcna159867',\n",
       " 'https://www.channelnewsasia.com/world/trump-shooting-took-bullet-democracy-campaign-rally-biden-november-election-4493861',\n",
       " 'https://www.washingtonpost.com/elections/2024/07/21/election-2024-biden-trump-campaign-updates/',\n",
       " 'https://www.google.com/search?sca_esv=b8228427afa87245&sca_upv=1&q=donald+trump&tbm=nws&source=univ&tbo=u&sa=X&ved=2ahUKEwjChq7ZzbmHAxU4WGwGHfgtAfkQt8YBKAB6BAg7EAE',\n",
       " 'https://en.wikipedia.org/wiki/Donald_Trump',\n",
       " 'https://www.google.com/search?sca_esv=b8228427afa87245&sca_upv=1&q=Jamaica+Hospital+Medical+Center&si=ACC90nyByJNAHfkzzi7l4JA4fcQKnJZTwFZjuiioX_pEpk9Ep7IfkNK39_kQj_C_AoTJi9kPsR5_iGoaKTFy421igRhs2cyTIqN306oPPRjk6WqPM4LxQ07oQrkpol4Mf7YoAvHFVSJj49iNSduQ-3wFoN-MBJEH-BYFqkg78czIS-a0kooEwfn6_v_DqfvbBvtcYnV-xp2BxEMWDCAtmRIeLAFFPIy6cHWUZ5H68-CZnfTy8poF-6A%3D&sa=X&ved=2ahUKEwjChq7ZzbmHAxU4WGwGHfgtAfkQmxMoAHoECCEQAg',\n",
       " 'https://www.google.com/search?sca_esv=b8228427afa87245&sca_upv=1&q=Mike+Pence&si=ACC90nzx_D3_zUKRnpAjmO0UBLNxnt7EyN4YYdru6U3bxLI-L6V7XZth_4U6GjwsFh-iEmUViT4wvrtSlyKq-KJW-uul1KgyhQg0RW6DTadHnkD4UFFx7Zy1DNdP0jtC1vRMIUruqxSD29_uxfPNcpOPrYXpG_642xOUKkHhWx4xR-UhS1SyGkjWH1yZyAixuuz6717U2xwt&sa=X&ved=2ahUKEwjChq7ZzbmHAxU4WGwGHfgtAfkQmxMoAHoECCMQAg',\n",
       " 'https://www.google.com/search?sca_esv=b8228427afa87245&sca_upv=1&q=Republican+Party&si=ACC90nyvvWro6QmnyY1IfSdgk5wwjB1r8BGd_IWRjXqmKPQqm-mhmp_b1qIapbeVtGhXvJhHWe5qtEIzfSuxPOwOUsVdCte3Z-k0bNOVAKIura3wB6i-1HpJPybdWke4t5snAtw-XzA0f21qRml-CXuIiDoYE7p9bMdAmhz7YaPNHM1MQAgdeNpIZdrOomyyl2wOpVeWYS63&sa=X&ved=2ahUKEwjChq7ZzbmHAxU4WGwGHfgtAfkQmxMoAHoECCAQAg',\n",
       " 'https://www.google.com/search?sca_esv=b8228427afa87245&sca_upv=1&q=Melania+Trump&si=ACC90nzx_D3_zUKRnpAjmO0UBLNxnt7EyN4YYdru6U3bxLI-L41W8jCclR6CRbpG0VV8A0EkkyvhvVbN1VjKcDCOfQuELJlWZ_bHgiDVVpwbnGJ2igZB2FDQbnQkztjoWcJS1ap7rY1bwS7PUZVaiMnzYJFrwn93ekI5Vyg6hRgso--y-X9qCmx1cdVA61IjwNYeb8HHbhM6NSz1_WntPQc0hlwOckzqM1eccnKNHWpy2eQrK1-Uy88oMDi4K41mvVADC7wl24Zn&sa=X&ved=2ahUKEwjChq7ZzbmHAxU4WGwGHfgtAfkQmxMoAHoECCgQAg',\n",
       " 'https://www.google.com/search?sca_esv=b8228427afa87245&sca_upv=1&q=Marla+Maples&si=ACC90nzx_D3_zUKRnpAjmO0UBLNxnt7EyN4YYdru6U3bxLI-LzmzueNbuawIYQ5qNwoMNjdCfovM-rByMmWYwISf2z4mLysOWHqQUoAlLUXuRLGDGvc874X6DXjYWzCcvJVZQSJNxi0_zD_HXueXnfkr0CFQqAQPA2Wn5I2haJnOnTo8nKD_pasoyeCc5dZx51K-fFWPIRHDcXN4_JIlGNuQt8KT3-Q12yz53kRbkE_N2PjzW-S4mEfu4WTppQhFMjFnkaWXXE0i&sa=X&ved=2ahUKEwjChq7ZzbmHAxU4WGwGHfgtAfkQmxMoAXoECCgQAw',\n",
       " 'https://www.google.com/search?sca_esv=b8228427afa87245&sca_upv=1&q=Ivana+Trump&si=ACC90nzx_D3_zUKRnpAjmO0UBLNxnt7EyN4YYdru6U3bxLI-L4Ye8hJbKNn0z6dixo4wLfZslpM5yx96e1lqAuc4x7TFnJRCcmb_5KZGPDQ_xRQ-tftkLRK0nhC4J424MgyM2EzO2bdkgV_1CofmxmCsfg3MyAlissbykWH6xKJgXRT7aONQN9xxmpDC8xeACRU6sT9QS_ne1fUst_kfXrhuIRMnDcH6ZaGaLuoePyJgfBfHuASsQGsw2oMKoMbP6P-9aLqIGob1&sa=X&ved=2ahUKEwjChq7ZzbmHAxU4WGwGHfgtAfkQmxMoAnoECCgQBA',\n",
       " 'https://www.google.com/search?sca_esv=b8228427afa87245&sca_upv=1&q=Barron+Trump&si=ACC90nwLLwns5sISZcdzuISy7t-NHozt8Cbt6G3WNQfC9ekAgPGXEIpdTkXT3RQRiTO-0sc2QNOmNQTet8N40KFTfu1Lpr55Jv84q9fbEsWIBFnREeFBhxNAmhd4757COOK_z56Riuo6rdauh-ysnFsZYT9tUI-cZFKqgln2AIxgxksDifaZC047QzTNsoHZlYOeimvKm9VJWf8-cnDYFl4HFUCNIt--BWIaUPRpKdVwWM1hx48bUTQb291nlW8YAoGu9diYH2y-ir_67mWSCJtJ4TusObciXQ%3D%3D&sa=X&ved=2ahUKEwjChq7ZzbmHAxU4WGwGHfgtAfkQmxMoAHoECCsQAg',\n",
       " 'https://www.google.com/search?sca_esv=b8228427afa87245&sca_upv=1&q=Ivanka+Trump&si=ACC90nzx_D3_zUKRnpAjmO0UBLNxnt7EyN4YYdru6U3bxLI-L9U3Ag3mtnKjTSCmx7NwHtBEEHvunHZ-MrEL4zI3eqcC7IdB8UP-8eHGNrQEtYpOEUMVj9-ICOAuEO5C7N8JfDZmSu-W0jNKpm2eJ1li5wnXfgdOpwA9JA868j_FFFoz1ZddNjsvw7GGmiQB-xdEemVMAHtSIRskC3k0bImxXk8DAF7Of_S0sCpyrlOwZusjtXSffxYMYZ95LpBlp4AyMRznAe38lqWL_AZmoxkx6hBJop2OSQ%3D%3D&sa=X&ved=2ahUKEwjChq7ZzbmHAxU4WGwGHfgtAfkQmxMoAXoECCsQAw',\n",
       " 'https://www.google.com/search?sca_esv=b8228427afa87245&sca_upv=1&q=Donald+Trump+Jr.&si=ACC90nzx_D3_zUKRnpAjmO0UBLNxnt7EyN4YYdru6U3bxLI-L5ElE7Ec79GAJnpHNy1rOo_LikSC5MAZy6v_nScK2YanJUMGG6Dhejd6u4i74meGVeV6gAV3o7BFFUqXvIN9BULqXK3j7vhqTh7TNVikwFg63C2-1ML4Kbjc4d4uC2lkcmP_AQccfuPjOxqsCd4to47qV0G1slzmoaOY0R1bZpl1D1Q30yKIfL1ZRJr4znqSVgCVWZQmGQRC1FpA_pDNb-YBo4UN2EBlKAYhfmiHcofCHFkyNQ%3D%3D&sa=X&ved=2ahUKEwjChq7ZzbmHAxU4WGwGHfgtAfkQmxMoAnoECCsQBA',\n",
       " 'https://www.google.com/search?sca_esv=b8228427afa87245&sca_upv=1&q=Eric+Trump&si=ACC90ny8E30vD16OoPAAI4cStfcliGy35W8UAhb0TsHNc_ISQXBHLm7H-3TjL8PsCMWqNnhdkBpxlVk6N9-1v5BHAyJIRMdV6oykDI7ewmjIyp8Ok710l4XyGYTITwjlkY2LRmYd1he3sL4I52YpFMHnFha-XcHLhLgu4TxAvh6sDnNKjaykf27UISpyaKI3umuGploW9HFJkqcyuEUcgfRrhe8tYJD1hB-uwosrqjW6-0B6xVIYaaE4BALxFBt7_nyhse4Bw_S7EsxrEeY_e9KHAzclkGaHyw%3D%3D&sa=X&ved=2ahUKEwjChq7ZzbmHAxU4WGwGHfgtAfkQmxMoA3oECCsQBQ',\n",
       " 'https://www.google.com/search?sca_esv=b8228427afa87245&sca_upv=1&q=Tiffany+Trump&si=ACC90ny8E30vD16OoPAAI4cStfcliGy35W8UAhb0TsHNc_ISQcMadZI4T6ZD8uKCI1to6Y26g3IY8l3FNGLSX5uOIWS4aWgfz8_OFqV84gWCP0jUT-_omTOUfHE-l3w7nsVfaHEWJwn13UTDQYe4HP9Sn0zY43ALsLbIGNGrY0h09tzviClcP5s4dTlBFr4eyJnu33jL1CX4NjPGciow6K6WYCk9P6pWBIt1IZfFJY7cwQftBApBdTD_rOm9offouqdMSWJW_0saKlIayjx2Nk3690meXf_W4g%3D%3D&sa=X&ved=2ahUKEwjChq7ZzbmHAxU4WGwGHfgtAfkQmxMoBHoECCsQBg',\n",
       " 'http://www.forbes.com/billionaires/',\n",
       " 'https://www.google.com/search?sca_esv=b8228427afa87245&sca_upv=1&q=Save+America&si=ACC90nwLLwns5sISZcdzuISy7t-NHozt8Cbt6G3WNQfC9ekAgCFR4sq9NxYfhLZJoXAkQsWm3sgAzcikEj4_Hs3_iCo61sVgFvb79zl68cYkj0bkm81RLAT9gi-qUDF8EodWdcTQtqy76--eUk5Dt2bdYbypvCHuaoC0O9_0iilTkyg6vR4xko9NqQZt4v9uvSoGZNx4QaQ0yph2BJV6KXdE96jbAkBloCMRyWtmjoObid317smZRmFAHo8-syHQiyGhdLfdGOx90ouZ3JvEm4gUpi7QzxpR2brUDy0O_2Vzn_PsBFCRCPYTjEdARZAFncaeAu2_7wjR&sa=X&ved=2ahUKEwjChq7ZzbmHAxU4WGwGHfgtAfkQmxMoAHoECCkQAg',\n",
       " 'https://www.google.com/search?sca_esv=b8228427afa87245&sca_upv=1&q=Trump+Winery&si=ACC90ny8E30vD16OoPAAI4cStfcliGy35W8UAhb0TsHNc_ISQe5zQiAJF9cyphp9oLsRoY6dI0IQ9W802I7Iq1e_jqvbOVY8MBOHXbX1w3onmIjVZmYVxZvEVdmBOPV6jBsdiShfC1zIENXj7VDriQwwlXT3FHY7B72suRY9Zj5bjkBWGYb_tPbeADVddAULckbOlH8FUAMgvYuD-CeOXT2d8Oi3I1Hek4RaISJb3hs4-MbaJWD1xSZNF5qeJmMZs9a4N19npWQQxEX6JAc58YXpGJERfoZY0sq1-UdYuNgaVlVurIHDjtQ%3D&sa=X&ved=2ahUKEwjChq7ZzbmHAxU4WGwGHfgtAfkQmxMoAXoECCkQAw',\n",
       " 'https://www.google.com/search?sca_esv=b8228427afa87245&sca_upv=1&q=donald+trump+organizations+founded&stick=H4sIAAAAAAAAAOPgE-LUz9U3SC4ssTTQsswot9JPzs_JSU0uyczP088vSk_My6xKBHHi0_JL81JSi4qtIIwUBWTZRaxKKfl5iTkpCiVFpbkFKHLFClAdAH6iF-RtAAAA&sa=X&ved=2ahUKEwjChq7ZzbmHAxU4WGwGHfgtAfkQ44YBKAJ6BAgpEAQ',\n",
       " 'https://www.ballotpedia.org/',\n",
       " 'http://www.wikipedia.com/',\n",
       " 'https://support.google.com/knowledgepanel?p=about_knowledge_panels',\n",
       " 'https://twitter.com/realDonaldTrump',\n",
       " 'https://www.facebook.com/DonaldTrump',\n",
       " 'https://www.instagram.com/realdonaldtrump',\n",
       " 'https://www.youtube.com/channel/UCAql2DyGU2un1Ei2nMYsqOA',\n",
       " 'https://www.google.com/search?sca_esv=b8228427afa87245&sca_upv=1&si=ACC90nzx_D3_zUKRnpAjmO0UBLNxnt7EyN4YYdru6U3bxLI-Lwem4QsHhIGQ2uOCJxTLTthIEFScUzfSUPq225tKKNKKPbHhA03aXWOuv-_EoVyDbPlrgJhFyWZA4JUZDmGsnPK-y9zVRoM6YQAelW7F6kopbhGXF4k7MmLQiINLO_46eD1D1vXg2LplFeQZplMhEtXMP822&q=Joe+Biden&sa=X&ved=2ahUKEwjChq7ZzbmHAxU4WGwGHfgtAfkQs9oBKAB6BAhIEAU',\n",
       " 'https://www.google.com/search?sca_esv=b8228427afa87245&sca_upv=1&si=ACC90nzx_D3_zUKRnpAjmO0UBLNxnt7EyN4YYdru6U3bxLI-Lx8dte6BDrYdHUWkBzPHe0GuIFCUN1i5yZw1AJsW828IgDYXTtZ_QuJF_6D8k1PDoFkF46m18t4e1DbZb-yDR0TNh3_6pdBmJximwoJdvUaofAV9evVKfsBSBtGSVqVcIAQ4iQrLET7MTQjLuanWT4X8_4fW1_dPVa_6LSuqfylw9cFiLw%3D%3D&q=Kamala+Harris&sa=X&ved=2ahUKEwjChq7ZzbmHAxU4WGwGHfgtAfkQs9oBKAB6BAhIEAk']"
      ]
     },
     "execution_count": 5,
     "metadata": {},
     "output_type": "execute_result"
    }
   ],
   "source": [
    "\n",
    "links = list(map(lambda x : x.get_attribute(\"href\"),driver.find_elements(By.XPATH, \"//a[@href]\")))\n",
    "links"
   ]
  },
  {
   "cell_type": "code",
   "execution_count": 6,
   "metadata": {},
   "outputs": [
    {
     "data": {
      "text/plain": [
       "['https://twitter.com/realdonaldtrump?lang=en',\n",
       " 'https://www.facebook.com/DonaldTrump/',\n",
       " 'https://www.bbc.com/news/articles/cpwd8yzw45qo',\n",
       " 'https://www.cnbc.com/2024/07/21/biden-to-drop-out-of-2024-presidential-race.html',\n",
       " 'https://www.reuters.com/world/us/trump-says-kamala-harris-will-be-easier-defeat-than-biden-2024-07-21/',\n",
       " 'https://www.theguardian.com/us-news/article/2024/jul/21/trump-truth-social-biden-drops-out',\n",
       " 'https://www.nbcnews.com/politics/2024-election/president-joe-biden-drops-2024-presidential-race-rcna159867',\n",
       " 'https://www.channelnewsasia.com/world/trump-shooting-took-bullet-democracy-campaign-rally-biden-november-election-4493861',\n",
       " 'https://www.washingtonpost.com/elections/2024/07/21/election-2024-biden-trump-campaign-updates/',\n",
       " 'http://www.forbes.com/billionaires/',\n",
       " 'https://www.ballotpedia.org/',\n",
       " 'https://twitter.com/realDonaldTrump',\n",
       " 'https://www.facebook.com/DonaldTrump',\n",
       " 'https://www.instagram.com/realdonaldtrump']"
      ]
     },
     "execution_count": 6,
     "metadata": {},
     "output_type": "execute_result"
    }
   ],
   "source": [
    "#links = [link for links in linkss for link in links]\n",
    "blacklist = ['google','youtu','wikipedia']\n",
    "def not_blacklisted(link):\n",
    "    is_not_in_blacklist = [word not in link for word in blacklist]\n",
    "    return all(is_not_in_blacklist)\n",
    "links = list(dict.fromkeys(filter(not_blacklisted,links)))\n",
    "links"
   ]
  },
  {
   "cell_type": "code",
   "execution_count": 7,
   "metadata": {},
   "outputs": [],
   "source": [
    "driver.close()\n",
    "driver.quit()"
   ]
  }
 ],
 "metadata": {
  "kernelspec": {
   "display_name": "Agent",
   "language": "python",
   "name": "python3"
  },
  "language_info": {
   "codemirror_mode": {
    "name": "ipython",
    "version": 3
   },
   "file_extension": ".py",
   "mimetype": "text/x-python",
   "name": "python",
   "nbconvert_exporter": "python",
   "pygments_lexer": "ipython3",
   "version": "3.12.4"
  }
 },
 "nbformat": 4,
 "nbformat_minor": 2
}

{
 "cells": [
  {
   "cell_type": "code",
   "execution_count": 26,
   "metadata": {},
   "outputs": [],
   "source": [
    "import os\n",
    "from langchain_community.chat_models import ChatOllama\n",
    "from langgraph.graph import END, StateGraph\n",
    "from typing import Dict, TypedDict\n",
    "from langchain.prompts import PromptTemplate"
   ]
  },
  {
   "cell_type": "code",
   "execution_count": 27,
   "metadata": {},
   "outputs": [],
   "source": [
    "local_llm = 'elvee/hermes-2-pro-llama-3:8b-Q5_K_M'\n",
    "llm = ChatOllama(model=local_llm, temperature=0)"
   ]
  },
  {
   "cell_type": "markdown",
   "metadata": {},
   "source": [
    "Define tool"
   ]
  },
  {
   "cell_type": "code",
   "execution_count": 28,
   "metadata": {},
   "outputs": [],
   "source": [
    "from langchain_core.tools import tool\n",
    "from langchain_community.tools.tavily_search import TavilySearchResults\n",
    "\n",
    "@tool\n",
    "def web_search(query:str) -> str:\n",
    "    \"\"\"Search the web for query\"\"\"\n",
    "    tool = TavilySearchResults(max_results=3,tavily_api_key=os.environ['TAVILY_API_KEY'])\n",
    "    return str(tool.invoke(query))"
   ]
  },
  {
   "cell_type": "code",
   "execution_count": 29,
   "metadata": {},
   "outputs": [
    {
     "name": "stdout",
     "output_type": "stream",
     "text": [
      "web_search\n",
      "Search the web for query\n",
      "{'query': {'title': 'Query', 'type': 'string'}}\n"
     ]
    }
   ],
   "source": [
    "print(web_search.name)\n",
    "print(web_search.description)\n",
    "print(web_search.args)"
   ]
  },
  {
   "cell_type": "markdown",
   "metadata": {},
   "source": [
    "Render tool description which prompts the llm"
   ]
  },
  {
   "cell_type": "code",
   "execution_count": 30,
   "metadata": {},
   "outputs": [
    {
     "data": {
      "text/plain": [
       "'web_search(query: str) -> str - Search the web for query'"
      ]
     },
     "execution_count": 30,
     "metadata": {},
     "output_type": "execute_result"
    }
   ],
   "source": [
    "from langchain.tools.render import render_text_description\n",
    "\n",
    "rendered_tools = render_text_description([web_search])\n",
    "rendered_tools"
   ]
  },
  {
   "cell_type": "code",
   "execution_count": 31,
   "metadata": {},
   "outputs": [
    {
     "name": "stdout",
     "output_type": "stream",
     "text": [
      "You are an assistant that has access to the following set of tools. Here are the names and descriptions for each tool: \n",
      "\n",
      "web_search(query: str) -> str - Search the web for query\n",
      "\n",
      "Given the user input, return the name and input of the tool to use. \n",
      "Return your response as a JSON blob with 'name' and 'arguments' keys.\n",
      "For example: \n",
      "{{'name': 'web_search', 'arguments': {{'arg1': \"value_1\"}}}}\n",
      "\n",
      "\n",
      "\n"
     ]
    }
   ],
   "source": [
    "from langchain_core.prompts import ChatPromptTemplate\n",
    "\n",
    "system_prompt = \"\"\"You are an assistant that has access to the following set of tools. Here are the names and descriptions for each tool: \n",
    "\n",
    "\"\"\" + rendered_tools + \"\"\"\n",
    "\n",
    "Given the user input, return the name and input of the tool to use. \n",
    "Return your response as a JSON blob with 'name' and 'arguments' keys.\n",
    "For example: \n",
    "{{'name': 'web_search', 'arguments': {{'arg1': \"value_1\"}}}}\n",
    "\n",
    "\n",
    "\"\"\"\n",
    "\n",
    "print(system_prompt)\n",
    "\n",
    "prompt = ChatPromptTemplate.from_messages(\n",
    "    [(\"system\", system_prompt), (\"user\", \"{input}\")]\n",
    ")"
   ]
  },
  {
   "cell_type": "code",
   "execution_count": 32,
   "metadata": {},
   "outputs": [
    {
     "data": {
      "text/plain": [
       "{'name': 'web_search', 'arguments': {'query': 'Lawrence Wong'}}"
      ]
     },
     "execution_count": 32,
     "metadata": {},
     "output_type": "execute_result"
    }
   ],
   "source": [
    "from langchain_core.output_parsers import JsonOutputParser\n",
    "\n",
    "\n",
    "chain = prompt | llm | JsonOutputParser()\n",
    "chain.invoke({\"input\": \"Search Lawrence Wong\"})"
   ]
  },
  {
   "cell_type": "code",
   "execution_count": 33,
   "metadata": {},
   "outputs": [
    {
     "data": {
      "text/plain": [
       "'[{\\'url\\': \\'https://en.wikipedia.org/wiki/Lawrence_Wong\\', \\'content\\': \"Lawrence Wong Shyun Tsai [b] (born 18 December 1972) is a Singaporean politician, economist and former civil servant who has been serving as the fourth prime minister of Singapore since 2024 and the minister for finance since 2021. A member of the governing People\\'s Action Party, he has been the Member of Parliament (MP) representing the ...\"}, {\\'url\\': \\'https://www.reuters.com/world/asia-pacific/singapores-new-leader-lawrence-wong-2024-05-15/\\', \\'content\\': \\'Lawrence Wong, 51, will take over as prime minister of Singapore on Wednesday, becoming the fourth leader of the Asian financial hub since its independence in 1965.\\'}, {\\'url\\': \\'https://www.britannica.com/biography/Lawrence-Wong\\', \\'content\\': \"Lawrence Wong (born December 18, 1972, Singapore) is the current and fourth prime minister of Singapore (2024-). An economist by training, he served in several government ministries before becoming deputy prime minister under Prime Minister Lee Hsien Loong.Wong was chosen by Lee to be his successor prior to Lee\\'s stepping down from power in May 2024.\"}]'"
      ]
     },
     "execution_count": 33,
     "metadata": {},
     "output_type": "execute_result"
    }
   ],
   "source": [
    "from operator import itemgetter\n",
    "\n",
    "def search(query):\n",
    "    search_chain = prompt | llm | JsonOutputParser() | itemgetter(\"arguments\") | web_search\n",
    "    return search_chain.invoke({\"input\": query})\n",
    "\n",
    "search(\"Lawrence Wong\")\n"
   ]
  },
  {
   "cell_type": "code",
   "execution_count": 34,
   "metadata": {},
   "outputs": [
    {
     "data": {
      "text/plain": [
       "'The ATxSummit, organized by Infocomm Media Development Authority of Singapore, will take place from 30-31 May 2024 at Capella Singapore. This event includes an invitation-only Plenary conference covering topics such as Artificial Intelligence, Governance and Safety, Quantum Computing, Sustainability, and more. The Asia Tech x Singapore event features a range of co-located events for participants to network and stay updated on the latest tech trends.\\n\\nRegistration is now open for ATxSG 2024, which will host over 25,000 hybrid participants, 1000+ sponsors and exhibitors, and 420+ speakers. The event focuses on sustainability and is organized by Infocomm Media Development Authority (IMDA) and Informa Tech, with support from the Singapore Tourism Board (STB).'"
      ]
     },
     "execution_count": 34,
     "metadata": {},
     "output_type": "execute_result"
    }
   ],
   "source": [
    "summariser_system_prompt = \"\"\"\n",
    "\n",
    "The JSON object you are given contains some search results. \n",
    "Return a summary of the search results. \n",
    "\n",
    "\"\"\"\n",
    "\n",
    "def search_summarise(query):\n",
    "    search_result = search(query)\n",
    "    summariser_prompt = ChatPromptTemplate.from_messages(\n",
    "        [(\"system\", summariser_system_prompt + search_result.replace(\"{\", \"[\").replace(\"}\", \"]\"))]\n",
    "    )\n",
    "    summariser_chain = summariser_prompt | llm \n",
    "    return summariser_chain.invoke({}).content\n",
    "\n",
    "search_summarise(\"Speakers for ATX Summit\")"
   ]
  }
 ],
 "metadata": {
  "kernelspec": {
   "display_name": "Agentic AI",
   "language": "python",
   "name": "python3"
  },
  "language_info": {
   "codemirror_mode": {
    "name": "ipython",
    "version": 3
   },
   "file_extension": ".py",
   "mimetype": "text/x-python",
   "name": "python",
   "nbconvert_exporter": "python",
   "pygments_lexer": "ipython3",
   "version": "3.12.4"
  }
 },
 "nbformat": 4,
 "nbformat_minor": 2
}

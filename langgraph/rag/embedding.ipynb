{
 "cells": [
  {
   "cell_type": "code",
   "execution_count": 1,
   "metadata": {},
   "outputs": [
    {
     "name": "stderr",
     "output_type": "stream",
     "text": [
      "/home/david/Programming/2024-IMDA/IMDA-Agentic/lib/python3.12/site-packages/sentence_transformers/cross_encoder/CrossEncoder.py:11: TqdmWarning: IProgress not found. Please update jupyter and ipywidgets. See https://ipywidgets.readthedocs.io/en/stable/user_install.html\n",
      "  from tqdm.autonotebook import tqdm, trange\n"
     ]
    }
   ],
   "source": [
    "from sentence_transformers import SentenceTransformer\n",
    "from typing import List\n",
    "\n",
    "class MyEmbeddings:\n",
    "        def __init__(self, model):\n",
    "            self.model = SentenceTransformer(model, trust_remote_code=True)\n",
    "    \n",
    "        def embed_documents(self, texts: List[str]) -> List[List[float]]:\n",
    "            return [self.model.encode(t).tolist() for t in texts]\n",
    "        \n",
    "        def embed_query(self, query: str) -> List[float]:\n",
    "            return self.model.encode(query).tolist()"
   ]
  },
  {
   "cell_type": "code",
   "execution_count": 2,
   "metadata": {},
   "outputs": [
    {
     "name": "stderr",
     "output_type": "stream",
     "text": [
      "100%|██████████| 6/6 [00:00<00:00,  7.08it/s]\n"
     ]
    },
    {
     "name": "stdout",
     "output_type": "stream",
     "text": [
      "finished loading data\n"
     ]
    }
   ],
   "source": [
    "from langchain_community.document_loaders import DirectoryLoader\n",
    "from langchain_text_splitters import RecursiveCharacterTextSplitter\n",
    "import os\n",
    "dir_path = os.getcwd()\n",
    "\n",
    "loader = DirectoryLoader(f\"{dir_path}/texts\", glob=\"**/*.txt\",show_progress=True)\n",
    "data = loader.load()\n",
    "print(\"finished loading data\")\n",
    "text_splitter = RecursiveCharacterTextSplitter(chunk_size=500, chunk_overlap=0)\n",
    "all_splits = text_splitter.split_documents(data)\n",
    "\n",
    "from langchain_chroma import Chroma\n",
    "embeddings=MyEmbeddings(\"sentence-transformers/all-MiniLM-L6-v2\")\n",
    "\n",
    "chromadb = Chroma.from_documents(\n",
    "    documents=all_splits,\n",
    "    embedding=embeddings,\n",
    "    persist_directory=False\n",
    ")"
   ]
  },
  {
   "cell_type": "code",
   "execution_count": 3,
   "metadata": {},
   "outputs": [
    {
     "data": {
      "text/plain": [
       "[Document(metadata={'source': '/Users/shaoyang/Desktop/Agent/langgraph/rag/texts/leehsienloong.txt'}, page_content='Personal life Lee married his first wife, Wong Ming Yang, a Malaysian-born physician, on 20 May 1978. They have a daughter and a son, Li Xiuqi, born in 1981, and Li Yipeng, born in 1982. Three weeks after giving birth to their son, Wong died of a heart attack on 28 October 1982, at the age of 31. [201]'),\n",
       " Document(metadata={'source': '/Users/shaoyang/Desktop/Agent/langgraph/rag/texts/leehsienloong.txt'}, page_content='Lee remarried to Ho Ching in 1985, a promising civil servant who subsequently became the executive director and chief executive officer of Temasek Holdings. [202] They have two sons, Li Hongyi and Li Haoyi. [203] Their elder son, Li Hongyi, was a commissioned officer in the Singapore Armed Forces (SAF),[204] and is the deputy director of the Government Technology Agency. [205][206] Their younger son, Li Haoyi, is a software engineer who authors books on the Scala programming language. [207]'),\n",
       " Document(metadata={'source': '/Users/shaoyang/Desktop/Agent/langgraph/rag/texts/leehsienloong.txt'}, page_content=\"Early life The eldest child of Lee Kuan Yew and Kwa Geok Choo and the patriline grandson of a retired storekeeper-turned-salesman, Lee Chin Koon (1903–1995) and Chua Jim Neo (1905–1980), a chef, Lee Hsien Loong was born at KK Women's and Children's Hospital in Singapore on 10 February 1952,[3] when Singapore was a British colony. [4] His mother has ancestry from Tong'an District and Longhu while his father has ancestry from Dabu County in China. [5][6]\"),\n",
       " Document(metadata={'source': '/Users/shaoyang/Desktop/Agent/langgraph/rag/texts/ongyekung.txt'}, page_content='Ong is married to Diana Kuik Sin Leng, the daughter of real estate magnate Kuik Ah Han. [23][24] They have two daughters. [citation needed] In 2012, Straits Times correspondent Susan Long described him as a \"free thinker\" and a \"Confucius-quoting unionist\". [25]\\n\\nOng\\'s maternal cousin, Xie Yao Quan, is also a PAP Member of Parliament representing the Jurong Central division of Jurong GRC'),\n",
       " Document(metadata={'source': '/Users/shaoyang/Desktop/Agent/langgraph/rag/texts/leehsienloong.txt'}, page_content=\"Born and raised in Singapore during British colonial rule, Lee is the eldest son of Singapore's first prime minister, Lee Kuan Yew. He graduated from Trinity College, Cambridge, in 1974 with a bachelor of arts in mathematics with first class honours and a Diploma in Computer Science with distinction (equivalent to a first-class master's in computer science). He served in the Singapore Armed Forces (SAF) between 1971 and 1984, and attained the rank Brigadier-General, completing a Master of\"),\n",
       " Document(metadata={'source': '/Users/shaoyang/Desktop/Agent/langgraph/rag/texts/leehsienloong.txt'}, page_content=\"As the eldest son of Lee Kuan Yew, Lee's career has been shadowed by allegations of nepotism. [178][179][180][177] He was widely tipped to be prime minister with several critics viewing Goh Chok Tong as a seat-warmer. Lee has challenged his critics to prove their allegations of nepotism or put the matter to rest. [178][179]\"),\n",
       " Document(metadata={'source': '/Users/shaoyang/Desktop/Agent/langgraph/rag/texts/lawrence.txt'}, page_content=\"Wong subsequently emerged as Lee's apparent successor to the position of prime minister; the latter's initial plan to step down at the age of 70 had been complicated by Heng's withdrawal. [72] On 15 April 2024, the Prime Minister's Office issued a press statement confirming that Lawrence Wong would succeed Lee Hsien Loong as prime minister. [73]\"),\n",
       " Document(metadata={'source': '/Users/shaoyang/Desktop/Agent/langgraph/rag/texts/leehsienloong.txt'}, page_content='Deputy Prime Minister Ministerial duties On 28 November 1990, Goh Chok Tong succeeded Lee Kuan Yew as prime minister. Lee Hsien Loong was made one of two deputy prime ministers, along with Ong Teng Cheong. He continued to serve as the minister for trade and industry until 1992, when he was diagnosed with lymphoma. He subsequently relinquished his ministerial position and underwent three months of chemotherapy, though he continued to be a deputy prime minister during his illness. The'),\n",
       " Document(metadata={'source': '/Users/shaoyang/Desktop/Agent/langgraph/rag/texts/leehsienloong.txt'}, page_content=\"Education Lee was educated at Nanyang Primary School and Catholic High School—where he played clarinet in the school band,[7] and National Junior College before he was awarded the President's Scholarship and Singapore Armed Forces Overseas Scholarship in 1971 by the Public Service Commission (PSC) to study mathematics at Trinity College, University of Cambridge. [8]\"),\n",
       " Document(metadata={'source': '/Users/shaoyang/Desktop/Agent/langgraph/rag/texts/hengsweekeat.txt'}, page_content='On 15 May 2024, Heng relinquished his cabinet portfolio of Coordinating Minister for Economic Policies, while retaining the portfolio of Deputy Prime Minister. [41]\\n\\nPersonal life Heng is married to Chang Hwee Nee, the chief executive officer of the National Heritage Board. They have two children. [42][43][44]')]"
      ]
     },
     "execution_count": 3,
     "metadata": {},
     "output_type": "execute_result"
    }
   ],
   "source": [
    "question = \"lee hsien loong wife\"\n",
    "docs = chromadb.similarity_search(question,k=10)\n",
    "relevant_texts = [document for document in docs]\n",
    "relevant_texts"
   ]
  }
 ],
 "metadata": {
  "kernelspec": {
   "display_name": "Agent",
   "language": "python",
   "name": "python3"
  },
  "language_info": {
   "codemirror_mode": {
    "name": "ipython",
    "version": 3
   },
   "file_extension": ".py",
   "mimetype": "text/x-python",
   "name": "python",
   "nbconvert_exporter": "python",
   "pygments_lexer": "ipython3",
   "version": "3.12.4"
  }
 },
 "nbformat": 4,
 "nbformat_minor": 2
}

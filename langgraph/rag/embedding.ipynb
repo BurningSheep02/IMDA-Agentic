{
 "cells": [
  {
   "cell_type": "code",
   "execution_count": 1,
   "metadata": {},
   "outputs": [
    {
     "name": "stderr",
     "output_type": "stream",
     "text": [
      "100%|██████████| 3/3 [00:01<00:00,  2.67it/s]"
     ]
    },
    {
     "name": "stdout",
     "output_type": "stream",
     "text": [
      "finished loading data\n"
     ]
    },
    {
     "name": "stderr",
     "output_type": "stream",
     "text": [
      "\n"
     ]
    }
   ],
   "source": [
    "from langchain_community.document_loaders import DirectoryLoader\n",
    "from langchain_text_splitters import RecursiveCharacterTextSplitter\n",
    "import os\n",
    "dir_path = os.getcwd()\n",
    "\n",
    "loader = DirectoryLoader(f\"{dir_path}/texts\", glob=\"**/*.txt\",show_progress=True)\n",
    "data = loader.load()\n",
    "print(\"finished loading data\")\n",
    "text_splitter = RecursiveCharacterTextSplitter(chunk_size=500, chunk_overlap=0)\n",
    "all_splits = text_splitter.split_documents(data)\n"
   ]
  },
  {
   "cell_type": "code",
   "execution_count": 2,
   "metadata": {},
   "outputs": [
    {
     "name": "stderr",
     "output_type": "stream",
     "text": [
      "Failed to load libllamamodel-mainline-cuda.so: dlopen: libcuda.so.1: cannot open shared object file: No such file or directory\n",
      "Failed to load libllamamodel-mainline-cuda-avxonly.so: dlopen: libcuda.so.1: cannot open shared object file: No such file or directory\n"
     ]
    }
   ],
   "source": [
    "from langchain_chroma import Chroma\n",
    "from langchain_community.embeddings import GPT4AllEmbeddings\n",
    "\n",
    "# Embedding model\n",
    "model_name = \"all-MiniLM-L6-v2.gguf2.f16.gguf\"\n",
    "\n",
    "gpt4all_kwargs = {'allow_download': 'True'}\n",
    "embeddings = GPT4AllEmbeddings(\n",
    "    model_name=model_name,\n",
    "    gpt4all_kwargs=gpt4all_kwargs\n",
    ")\n",
    "vectorstore = Chroma.from_documents(documents=all_splits, embedding=embeddings)"
   ]
  },
  {
   "cell_type": "code",
   "execution_count": 3,
   "metadata": {},
   "outputs": [
    {
     "data": {
      "text/plain": [
       "[Document(metadata={'source': '/home/david/Programming/2024-IMDA/IMDA-Agentic/langgraph/rag/texts/lawrence.txt'}, page_content='[47] On 29 August 2016, he stepped down from the board of directors of the Monetary Authority of Singapore and was replaced by Ong Ye Kung. [20][48]'),\n",
       " Document(metadata={'source': '/home/david/Programming/2024-IMDA/IMDA-Agentic/langgraph/rag/texts/ongyekung.txt'}, page_content=\"Ong Ye Kung (Chinese: 王乙康; pinyin: Wáng Yǐkāng; Pe̍h-ōe-jī: Ông It-khong; born 15 November 1969)[1] is a Singaporean politician and former civil servant who has been serving as Minister for Health since 2021. A member of the governing People's Action Party (PAP), he has been the Member of Parliament (MP) representing the Sembawang Central division of Sembawang GRC since 2015. [3][4]\"),\n",
       " Document(metadata={'source': '/home/david/Programming/2024-IMDA/IMDA-Agentic/langgraph/rag/texts/ongyekung.txt'}, page_content='On 1 May 2018, the two Education portfolios were merged into a single one; Ong took over the single portfolio as Minister for Education, Ong had also relinquished his Second Minister of Defence portfolio at the same time.\\n\\nOn 27 July 2020, Ong relinquished his portfolio as Minister for Education and succeeded Khaw Boon Wan as Minister for Transport, as well as the Anchor Minister of Sembawang GRC.'),\n",
       " Document(metadata={'source': '/home/david/Programming/2024-IMDA/IMDA-Agentic/langgraph/rag/texts/ongyekung.txt'}, page_content=\"In the lead-up to the 2020 general election, Ong was widely seen as one of the three leading candidates (alongside Heng Swee Keat and Chan Chun Sing) to succeed Lee Hsien Loong as Prime Minister of Singapore. [15] Ong led the PAP team in Sembawang GRC and they won with about 67% of the vote. Ong's former Gambas ward was merged with part of Khaw Boon Wan's former Sembawang ward, forming the new Sembawang Central ward which is currently helmed by Ong. [16]\"),\n",
       " Document(metadata={'source': '/home/david/Programming/2024-IMDA/IMDA-Agentic/langgraph/rag/texts/ongyekung.txt'}, page_content='On 23 April 2021, Ong was appointed co-chair of the multi-ministerial committee formed on 22 January 2020 to manage the COVID-19 pandemic in Singapore. Following a Cabinet reshuffle on 15 May 2021, Ong relinquished his portfolio as Minister for Transport and succeeded Gan Kim Yong as Minister for Health.'),\n",
       " Document(metadata={'source': '/home/david/Programming/2024-IMDA/IMDA-Agentic/langgraph/rag/texts/ongyekung.txt'}, page_content='Prior to entering politics, Ong worked in the Ministry of Communications, Ministry of Trade and Industry, Singapore Workforce Development Agency, National Trades Union Congress and Keppel Corporation. He was also the principal private secretary to Deputy Prime Minister Lee Hsien Loong between 2002 and 2004.'),\n",
       " Document(metadata={'source': '/home/david/Programming/2024-IMDA/IMDA-Agentic/langgraph/rag/texts/lawrence.txt'}, page_content=\"Wong was previously Chairman of the Monetary Authority of Singapore (MAS) from 2023 to 2024 as well as Deputy Chairman between 2021 and 2023. He assumed Chairmanship of the Investment Strategies Committee of GIC from 7 July 2023 while he assumed Chairmanship of the International Advisory Council (IAC) of the Economic Development Board (EDB) from 8 July 2023 until his subsequent relinquishment to Gan Kim Yong on 1 June 2024. [7][8] Wong was also appointed Deputy Chairman of GIC's Board of\"),\n",
       " Document(metadata={'source': '/home/david/Programming/2024-IMDA/IMDA-Agentic/langgraph/rag/texts/gankimyong.txt'}, page_content='During the 2011 general election, Gan led the five-member PAP team contesting in the newly-formed Chua Chu Kang GRC and won 61.20% of the vote. He continued serving as the Member of Parliament representing the Chua Chu Kang ward of Chua Chu Kang GRC. On 21 May 2011, he relinquished his portfolio as Minister for Manpower and took up a new portfolio as Minister for Health.'),\n",
       " Document(metadata={'source': '/home/david/Programming/2024-IMDA/IMDA-Agentic/langgraph/rag/texts/lawrence.txt'}, page_content='much-needed services to keep Singapore going during this difficult time. [49] In the 2020 general election, Wong led a four-member PAP team to contest in Marsiling–Yew Tee GRC again. The PAP team won with 63.18% of the vote against the Singapore Democratic Party and Wong retained his seat as the Member of Parliament representing Limbang ward. [50] On 27 July 2020, following a Cabinet reshuffle, Wong succeeded Ong Ye Kung as Minister for Education. [51] On 8 November that year, Wong was elected'),\n",
       " Document(metadata={'source': '/home/david/Programming/2024-IMDA/IMDA-Agentic/langgraph/rag/texts/gankimyong.txt'}, page_content=\"Gan Kim Yong[a] (born 9 February 1959) is a Singaporean politician who has been serving as Deputy Prime Minister of Singapore since 2024 and Minister for Trade and Industry since 2021. A member of the governing People's Action Party, he has been the Member of Parliament (MP) representing the Choa Chu Kang division of Choa Chu Kang GRC since 2011.\")]"
      ]
     },
     "execution_count": 3,
     "metadata": {},
     "output_type": "execute_result"
    }
   ],
   "source": [
    "question = \"Ong Ye Kung portfolio\"\n",
    "docs = vectorstore.similarity_search(question,k=10)\n",
    "docs"
   ]
  }
 ],
 "metadata": {
  "kernelspec": {
   "display_name": "Agent",
   "language": "python",
   "name": "python3"
  },
  "language_info": {
   "codemirror_mode": {
    "name": "ipython",
    "version": 3
   },
   "file_extension": ".py",
   "mimetype": "text/x-python",
   "name": "python",
   "nbconvert_exporter": "python",
   "pygments_lexer": "ipython3",
   "version": "3.10.12"
  }
 },
 "nbformat": 4,
 "nbformat_minor": 2
}

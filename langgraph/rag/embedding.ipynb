{
 "cells": [
  {
   "cell_type": "code",
   "execution_count": 27,
   "metadata": {},
   "outputs": [
    {
     "name": "stderr",
     "output_type": "stream",
     "text": [
      "100%|██████████| 3/3 [00:00<00:00, 39.92it/s]\n"
     ]
    }
   ],
   "source": [
    "from langchain_community.document_loaders import DirectoryLoader\n",
    "from langchain_text_splitters import RecursiveCharacterTextSplitter\n",
    "\n",
    "loader = DirectoryLoader(\"./texts\", glob=\"**/*.txt\",show_progress=True)\n",
    "data = loader.load()\n",
    "\n",
    "text_splitter = RecursiveCharacterTextSplitter(chunk_size=500, chunk_overlap=0)\n",
    "all_splits = text_splitter.split_documents(data)\n"
   ]
  },
  {
   "cell_type": "code",
   "execution_count": 17,
   "metadata": {},
   "outputs": [],
   "source": [
    "from langchain_chroma import Chroma\n",
    "from langchain_community.embeddings import GPT4AllEmbeddings\n",
    "\n",
    "# Embedding model\n",
    "model_name = \"all-MiniLM-L6-v2.gguf2.f16.gguf\"\n",
    "\n",
    "gpt4all_kwargs = {'allow_download': 'True'}\n",
    "embeddings = GPT4AllEmbeddings(\n",
    "    model_name=model_name,\n",
    "    gpt4all_kwargs=gpt4all_kwargs\n",
    ")\n",
    "vectorstore = Chroma.from_documents(documents=all_splits, embedding=embeddings)"
   ]
  },
  {
   "cell_type": "code",
   "execution_count": 28,
   "metadata": {},
   "outputs": [
    {
     "data": {
      "text/plain": [
       "[Document(metadata={'source': 'texts/lawrence.txt'}, page_content='[47] On 29 August 2016, he stepped down from the board of directors of the Monetary Authority of Singapore and was replaced by Ong Ye Kung. [20][48]'),\n",
       " Document(metadata={'source': 'texts/ongyekung.txt'}, page_content=\"Ong Ye Kung (Chinese: 王乙康; pinyin: Wáng Yǐkāng; Pe̍h-ōe-jī: Ông It-khong; born 15 November 1969)[1] is a Singaporean politician and former civil servant who has been serving as Minister for Health since 2021. A member of the governing People's Action Party (PAP), he has been the Member of Parliament (MP) representing the Sembawang Central division of Sembawang GRC since 2015. [3][4]\"),\n",
       " Document(metadata={'source': 'texts/ongyekung.txt'}, page_content='On 1 May 2018, the two Education portfolios were merged into a single one; Ong took over the single portfolio as Minister for Education, Ong had also relinquished his Second Minister of Defence portfolio at the same time.\\n\\nOn 27 July 2020, Ong relinquished his portfolio as Minister for Education and succeeded Khaw Boon Wan as Minister for Transport, as well as the Anchor Minister of Sembawang GRC.'),\n",
       " Document(metadata={'source': 'texts/ongyekung.txt'}, page_content=\"In the lead-up to the 2020 general election, Ong was widely seen as one of the three leading candidates (alongside Heng Swee Keat and Chan Chun Sing) to succeed Lee Hsien Loong as Prime Minister of Singapore. [15] Ong led the PAP team in Sembawang GRC and they won with about 67% of the vote. Ong's former Gambas ward was merged with part of Khaw Boon Wan's former Sembawang ward, forming the new Sembawang Central ward which is currently helmed by Ong. [16]\"),\n",
       " Document(metadata={'source': 'texts/ongyekung.txt'}, page_content='On 23 April 2021, Ong was appointed co-chair of the multi-ministerial committee formed on 22 January 2020 to manage the COVID-19 pandemic in Singapore. Following a Cabinet reshuffle on 15 May 2021, Ong relinquished his portfolio as Minister for Transport and succeeded Gan Kim Yong as Minister for Health.'),\n",
       " Document(metadata={'source': 'texts/ongyekung.txt'}, page_content='Prior to entering politics, Ong worked in the Ministry of Communications, Ministry of Trade and Industry, Singapore Workforce Development Agency, National Trades Union Congress and Keppel Corporation. He was also the principal private secretary to Deputy Prime Minister Lee Hsien Loong between 2002 and 2004.'),\n",
       " Document(metadata={'source': 'texts/lawrence.txt'}, page_content='much-needed services to keep Singapore going during this difficult time. [49] In the 2020 general election, Wong led a four-member PAP team to contest in Marsiling–Yew Tee GRC again. The PAP team won with 63.18% of the vote against the Singapore Democratic Party and Wong retained his seat as the Member of Parliament representing Limbang ward. [50] On 27 July 2020, following a Cabinet reshuffle, Wong succeeded Ong Ye Kung as Minister for Education. [51] On 8 November that year, Wong was elected'),\n",
       " Document(metadata={'source': 'texts/gankimyong.txt'}, page_content=\"Gan Kim Yong[a] (born 9 February 1959) is a Singaporean politician who has been serving as Deputy Prime Minister of Singapore since 2024 and Minister for Trade and Industry since 2021. A member of the governing People's Action Party, he has been the Member of Parliament (MP) representing the Choa Chu Kang division of Choa Chu Kang GRC since 2011.\"),\n",
       " Document(metadata={'source': 'texts/ongyekung.txt'}, page_content='Ong has spoken out on the events of Anti-Indian sentiment at Singapore. Ong\\'s father, Ong Lian Teng, was a Barisan Sosialis politician who served as the Member of the Legislative Assembly for Bukit Panjang SMC from 1963 to 1965 and later Member of Parliament from 1965 to 1966, who later resigned to protest the \"undemocratic acts\" of the PAP government. In an interview with The Straits Times in 2011, Ong noted that his father, who died in 2009, had been fully supportive of his decision to become'),\n",
       " Document(metadata={'source': 'texts/ongyekung.txt'}, page_content='On 1 October 2015, Ong was appointed Senior Minister of State for Defence and Acting Minister for Education (Higher Education and Skills). On 1 November 2016, he was promoted to Second Minister for Defence while concurrently holding the portfolio of Minister for Education (Higher Education and Skills) alongside Ng Chee Meng, who was Minister for Education (Schools). In 2017, Ong moved a Bill in Parliament to confer the Singapore University of Social Sciences autonomous status. [14]')]"
      ]
     },
     "execution_count": 28,
     "metadata": {},
     "output_type": "execute_result"
    }
   ],
   "source": [
    "question = \"Ong Ye Kung portfolio\"\n",
    "docs = vectorstore.similarity_search(question,k=10)\n",
    "docs"
   ]
  }
 ],
 "metadata": {
  "kernelspec": {
   "display_name": "Agent",
   "language": "python",
   "name": "python3"
  },
  "language_info": {
   "codemirror_mode": {
    "name": "ipython",
    "version": 3
   },
   "file_extension": ".py",
   "mimetype": "text/x-python",
   "name": "python",
   "nbconvert_exporter": "python",
   "pygments_lexer": "ipython3",
   "version": "3.12.4"
  }
 },
 "nbformat": 4,
 "nbformat_minor": 2
}

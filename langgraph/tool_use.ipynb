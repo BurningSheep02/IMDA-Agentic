{
 "cells": [
  {
   "cell_type": "code",
   "execution_count": 166,
   "metadata": {},
   "outputs": [],
   "source": [
    "from dotenv import load_dotenv\n",
    "from langchain import hub\n",
    "from langchain_community.chat_models import ChatOllama\n",
    "from langgraph.graph import END, StateGraph\n",
    "from typing import Dict, TypedDict\n",
    "from langchain.prompts import PromptTemplate\n",
    "import pprint\n",
    "import os"
   ]
  },
  {
   "cell_type": "markdown",
   "metadata": {},
   "source": [
    "Local LLM Setup with OpenAI-compatible "
   ]
  },
  {
   "cell_type": "code",
   "execution_count": 167,
   "metadata": {},
   "outputs": [],
   "source": [
    "from langchain_openai import ChatOpenAI\n",
    "llm = ChatOpenAI(\n",
    "    api_key=\"ollama\",\n",
    "    model=\"llama3\",\n",
    "    base_url=\"http://localhost:11434/v1\",\n",
    "    temperature=0\n",
    ")"
   ]
  },
  {
   "cell_type": "markdown",
   "metadata": {},
   "source": [
    "Tool Set-up (Tavili Search Results)"
   ]
  },
  {
   "cell_type": "code",
   "execution_count": 168,
   "metadata": {},
   "outputs": [],
   "source": [
    "from langchain_community.tools.tavily_search import TavilySearchResults\n",
    "\n",
    "tool = TavilySearchResults(max_results=3,tavily_api_key=os.environ['TAVILY_API_KEY'])\n",
    "tools = [tool]\n",
    "#tool.invoke(\"Jenny Lee Granite\")"
   ]
  },
  {
   "cell_type": "code",
   "execution_count": 169,
   "metadata": {},
   "outputs": [],
   "source": [
    "def generate_tool_schema(tools: list) -> str:\n",
    "    if tools == []: return \"\"\n",
    "    res = \"You may use the following tools: \\n\"\n",
    "    for tool in tools:\n",
    "        res += \"{\"\n",
    "        res += \"tool_name: \" + tool.name  + \"\\n\"\n",
    "        res += \"description: \" + tool.description + \"\\n\"\n",
    "        res += \"}\\n\"\n",
    "    return res"
   ]
  },
  {
   "cell_type": "code",
   "execution_count": 170,
   "metadata": {},
   "outputs": [
    {
     "name": "stdout",
     "output_type": "stream",
     "text": [
      "You may use the following tools: \n",
      "{tool_name: tavily_search_results_json\n",
      "description: A search engine optimized for comprehensive, accurate, and trusted results. Useful for when you need to answer questions about current events. Input should be a search query.\n",
      "}\n",
      "\n"
     ]
    }
   ],
   "source": [
    "print(generate_tool_schema(tools))"
   ]
  },
  {
   "cell_type": "code",
   "execution_count": 171,
   "metadata": {},
   "outputs": [],
   "source": [
    "from typing import Annotated\n",
    "\n",
    "from typing_extensions import TypedDict\n",
    "\n",
    "from langgraph.graph import StateGraph\n",
    "from langgraph.graph.message import add_messages\n",
    "\n",
    "class State(TypedDict):\n",
    "    messages: Annotated[list, add_messages]\n",
    "\n",
    "\n",
    "graph_builder = StateGraph(State)\n",
    "\n",
    "# Modification: tell the LLM which tools it can call\n",
    "#llm_with_tools = llm.bind_tools(tools)"
   ]
  },
  {
   "cell_type": "code",
   "execution_count": 172,
   "metadata": {},
   "outputs": [],
   "source": [
    "def chatbot(state: State):\n",
    "    return {\"messages\": [llm.invoke(state[\"messages\"])]}\n",
    "\n",
    "\n",
    "graph_builder.add_node(\"chatbot\", chatbot)"
   ]
  },
  {
   "cell_type": "code",
   "execution_count": 173,
   "metadata": {},
   "outputs": [],
   "source": [
    "EXTRACTION_PROMPT = \"Extract the JSON object from the preceding message. Return only the JSON object and nothing else.\"\n",
    "\n",
    "def json_extractor(state: State):\n",
    "    print(state)\n",
    "    return {\"messages\": [llm.invoke(state[\"messages\"])]}\n",
    "    #return {\"messages\": [llm.invoke(state[\"messages\"][-1].content) + EXTRACTION_PROMPT]}\n",
    "\n",
    "graph_builder.add_node(\"json_extractor\", json_extractor)"
   ]
  },
  {
   "cell_type": "code",
   "execution_count": 174,
   "metadata": {},
   "outputs": [],
   "source": [
    "import json\n",
    "\n",
    "from langchain_core.messages import ToolMessage\n",
    "\n",
    "\n",
    "class BasicToolNode:\n",
    "    \"\"\"A node that runs the tools requested in the last AIMessage.\"\"\"\n",
    "\n",
    "    def __init__(self, tools: list) -> None:\n",
    "        self.tools_by_name = {tool.name: tool for tool in tools}\n",
    "\n",
    "    def __call__(self, inputs: dict):\n",
    "        if messages := inputs.get(\"messages\", []):\n",
    "            message = messages[-1]\n",
    "        else:\n",
    "            raise ValueError(\"No message found in input\")\n",
    "        outputs = []\n",
    "        for tool_call in message.tool_calls:\n",
    "            tool_result = self.tools_by_name[tool_call[\"name\"]].invoke(\n",
    "                tool_call[\"args\"]\n",
    "            )\n",
    "            outputs.append(\n",
    "                ToolMessage(\n",
    "                    content=json.dumps(tool_result),\n",
    "                    name=tool_call[\"name\"],\n",
    "                    tool_call_id=tool_call[\"id\"],\n",
    "                )\n",
    "            )\n",
    "        return {\"messages\": outputs}\n",
    "\n",
    "\n",
    "tool_node = BasicToolNode(tools=[tool])\n",
    "graph_builder.add_node(\"tools\", tool_node)"
   ]
  },
  {
   "cell_type": "markdown",
   "metadata": {},
   "source": [
    "Routing Setup"
   ]
  },
  {
   "cell_type": "code",
   "execution_count": 175,
   "metadata": {},
   "outputs": [],
   "source": [
    "from typing import Literal\n",
    "\n",
    "\n",
    "def route_tools(\n",
    "    state: State,\n",
    ") -> Literal[\"tools\", \"__end__\"]:\n",
    "    \"\"\"\n",
    "    Use in the conditional_edge to route to the ToolNode if the last message\n",
    "    has tool calls. Otherwise, route to the end.\n",
    "    \"\"\"\n",
    "    if isinstance(state, list):\n",
    "        ai_message = state[-1]\n",
    "    elif messages := state.get(\"messages\", []):\n",
    "        ai_message = messages[-1]\n",
    "    else:\n",
    "        raise ValueError(f\"No messages found in input state to tool_edge: {state}\")\n",
    "    if hasattr(ai_message, \"tool_calls\") and len(ai_message.tool_calls) > 0:\n",
    "        print(\"\\n --- \\n calling tools\\n ---\")\n",
    "        return \"tools\"\n",
    "    print(\"\\n --- \\n not calling tools\\n ---\")\n",
    "    return \"__end__\"\n",
    "\n",
    "\n",
    "# The `tools_condition` function returns \"tools\" if the chatbot asks to use a tool, and \"__end__\" if\n",
    "# it is fine directly responding. This conditional routing defines the main agent loop.\n",
    "graph_builder.add_conditional_edges(\n",
    "    \"json_extractor\",\n",
    "    route_tools,\n",
    "    # The following dictionary lets you tell the graph to interpret the condition's outputs as a specific node\n",
    "    # It defaults to the identity function, but if you\n",
    "    # want to use a node named something else apart from \"tools\",\n",
    "    # You can update the value of the dictionary to something else\n",
    "    # e.g., \"tools\": \"my_tools\"\n",
    "    {\"tools\": \"tools\", \"__end__\": \"__end__\"},\n",
    ")\n",
    "# Any time a tool is called, we return to the chatbot to decide the next step\n",
    "graph_builder.add_edge(\"chatbot\", \"json_extractor\")\n",
    "graph_builder.add_edge(\"tools\", \"chatbot\")\n",
    "graph_builder.set_entry_point(\"chatbot\")\n",
    "graph = graph_builder.compile()"
   ]
  },
  {
   "cell_type": "code",
   "execution_count": 176,
   "metadata": {},
   "outputs": [
    {
     "data": {
      "image/jpeg": "[encoded data removed]",
      "text/plain": [
       "<IPython.core.display.Image object>"
      ]
     },
     "metadata": {},
     "output_type": "display_data"
    }
   ],
   "source": [
    "from IPython.display import Image, display\n",
    "\n",
    "try:\n",
    "    display(Image(graph.get_graph().draw_mermaid_png()))\n",
    "except Exception:\n",
    "    # This requires some extra dependencies and is optional\n",
    "    pass"
   ]
  },
  {
   "cell_type": "code",
   "execution_count": 177,
   "metadata": {},
   "outputs": [],
   "source": [
    "TOOL_PROMPT = \"\"\"\n",
    "If you need to use a tool, return only an json object with tool_calls as an attribute. \n",
    "For example: \n",
    "{\n",
    "  \"tool_calls\": [\n",
    "    {\n",
    "      \"id\": \"id_value\",\n",
    "      \"function\": {\n",
    "        \"args\": '{\"arg_name\": \"arg_value\"}',\n",
    "        \"name\": \"tool_name\"\n",
    "      },\n",
    "      \"type\": \"function\"\n",
    "    }\n",
    "  ]\n",
    "}\n",
    "\"\"\""
   ]
  },
  {
   "cell_type": "code",
   "execution_count": 178,
   "metadata": {},
   "outputs": [
    {
     "name": "stdout",
     "output_type": "stream",
     "text": [
      "Assistant: Here is the search result for Lee Hsien Loong:\n",
      "\n",
      "{\n",
      "  \"tool_calls\": [\n",
      "    {\n",
      "      \"id\": \"tavily_search_results_json\",\n",
      "      \"function\": {\n",
      "        \"args\": '{\"query\": \"Lee Hsien Loong\"}',\n",
      "        \"name\": \"tavily_search_results_json\"\n",
      "      },\n",
      "      \"type\": \"function\"\n",
      "    }\n",
      "  ]\n",
      "}\n",
      "\n",
      "Note: Lee Hsien Loong is the current Prime Minister of Singapore, serving since 2004.\n",
      "{'messages': [HumanMessage(content='Search for Lee Hsien loongYou may use the following tools: \\n{tool_name: tavily_search_results_json\\ndescription: A search engine optimized for comprehensive, accurate, and trusted results. Useful for when you need to answer questions about current events. Input should be a search query.\\n}\\n\\nIf you need to use a tool, return only an json object with tool_calls as an attribute. \\nFor example: \\n{\\n  \"tool_calls\": [\\n    {\\n      \"id\": \"id_value\",\\n      \"function\": {\\n        \"args\": \\'{\"arg_name\": \"arg_value\"}\\',\\n        \"name\": \"tool_name\"\\n      },\\n      \"type\": \"function\"\\n    }\\n  ]\\n}\\n', id='65f653b7-b1a4-4b39-9f92-d11230fe565c'), AIMessage(content='Here is the search result for Lee Hsien Loong:\\n\\n{\\n  \"tool_calls\": [\\n    {\\n      \"id\": \"tavily_search_results_json\",\\n      \"function\": {\\n        \"args\": \\'{\"query\": \"Lee Hsien Loong\"}\\',\\n        \"name\": \"tavily_search_results_json\"\\n      },\\n      \"type\": \"function\"\\n    }\\n  ]\\n}\\n\\nNote: Lee Hsien Loong is the current Prime Minister of Singapore, serving since 2004.', response_metadata={'token_usage': {'completion_tokens': 104, 'prompt_tokens': 153, 'total_tokens': 257}, 'model_name': 'llama3', 'system_fingerprint': 'fp_ollama', 'finish_reason': 'stop', 'logprobs': None}, id='run-edd88143-89fb-43e3-a358-5d8b770ad189-0', usage_metadata={'input_tokens': 153, 'output_tokens': 104, 'total_tokens': 257})]}\n",
      "\n",
      " --- \n",
      " not calling tools\n",
      " ---\n",
      "Assistant: \n",
      "Goodbye!\n"
     ]
    }
   ],
   "source": [
    "from langchain_core.messages import BaseMessage\n",
    "\n",
    "while True:\n",
    "    user_input = input(\"User: \")\n",
    "    if user_input.lower() in [\"quit\", \"exit\", \"q\"]:\n",
    "        print(\"Goodbye!\")\n",
    "        break\n",
    "    user_input += generate_tool_schema(tools)\n",
    "    user_input += TOOL_PROMPT\n",
    "    for event in graph.stream({\"messages\": [(\"user\", user_input)]}):\n",
    "        for value in event.values():\n",
    "            if isinstance(value[\"messages\"][-1]):\n",
    "                print(\"Assistant:\", value[\"messages\"][-1].content)"
   ]
  }
 ],
 "metadata": {
  "kernelspec": {
   "display_name": "Agentic AI",
   "language": "python",
   "name": "python3"
  },
  "language_info": {
   "codemirror_mode": {
    "name": "ipython",
    "version": 3
   },
   "file_extension": ".py",
   "mimetype": "text/x-python",
   "name": "python",
   "nbconvert_exporter": "python",
   "pygments_lexer": "ipython3",
   "version": "3.12.4"
  }
 },
 "nbformat": 4,
 "nbformat_minor": 2
}

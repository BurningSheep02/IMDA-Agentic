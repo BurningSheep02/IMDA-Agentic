{
 "cells": [
  {
   "cell_type": "markdown",
   "metadata": {},
   "source": [
    "Taken from [https://langchain-ai.github.io/langgraph/tutorials/rag/langgraph_crag/](https://langchain-ai.github.io/langgraph/tutorials/rag/langgraph_crag/)\n",
    "\n",
    "The following libraries are required:\n",
    "\n",
    "```sh\n",
    "pip install langchain_community tiktoken langchain-openai langchainhub chromadb langchain langgraph tavily-python\n",
    "```"
   ]
  },
  {
   "cell_type": "code",
   "execution_count": null,
   "metadata": {},
   "outputs": [],
   "source": []
  }
 ],
 "metadata": {
  "language_info": {
   "name": "python"
  }
 },
 "nbformat": 4,
 "nbformat_minor": 2
}
